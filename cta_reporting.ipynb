{
 "cells": [
  {
   "cell_type": "code",
   "execution_count": null,
   "id": "9a79959d",
   "metadata": {},
   "outputs": [],
   "source": [
    "import requests\n",
    "import json\n",
    "import xml.etree.ElementTree as ElementTree\n",
    "import xmltodict\n",
    "import sqlite3\n",
    "from kafka import KafkaProducer, KafkaConsumer\n",
    "from kafka.admin import KafkaAdminClient, NewTopic\n",
    "import json\n",
    "import time\n",
    "\n",
    "from config import CTA_API_KEY"
   ]
  },
  {
   "cell_type": "markdown",
   "id": "7e19e023",
   "metadata": {},
   "source": [
    "## Arrivals API"
   ]
  },
  {
   "cell_type": "code",
   "execution_count": null,
   "id": "06519288",
   "metadata": {},
   "outputs": [],
   "source": [
    "params = {'mapid': 40630,\n",
    "         'stpid': 30122,\n",
    "          'max': 3,\n",
    "         'key': CTA_API_KEY,\n",
    "         'outputType':'JSON'}"
   ]
  },
  {
   "cell_type": "code",
   "execution_count": null,
   "id": "69cd1553",
   "metadata": {},
   "outputs": [],
   "source": [
    "response = requests.get(\"http://lapi.transitchicago.com/api/1.0/ttarrivals.aspx\", params=params)"
   ]
  },
  {
   "cell_type": "code",
   "execution_count": null,
   "id": "2c3f02ff",
   "metadata": {},
   "outputs": [],
   "source": [
    "response.json()"
   ]
  },
  {
   "cell_type": "code",
   "execution_count": null,
   "id": "8ec9fb9f",
   "metadata": {
    "scrolled": true
   },
   "outputs": [],
   "source": [
    "root = ElementTree.fromstring(response.text)"
   ]
  },
  {
   "cell_type": "code",
   "execution_count": null,
   "id": "1e63632b",
   "metadata": {
    "scrolled": true
   },
   "outputs": [],
   "source": [
    "# child = \n",
    "root.getchildren()"
   ]
  },
  {
   "cell_type": "code",
   "execution_count": null,
   "id": "ac4e27b3",
   "metadata": {},
   "outputs": [],
   "source": [
    "child.text"
   ]
  },
  {
   "cell_type": "code",
   "execution_count": null,
   "id": "dba4a111",
   "metadata": {},
   "outputs": [],
   "source": [
    "def xml_to_tree(node):\n",
    "    curr = {}\n",
    "    eta_num = 1\n",
    "    for child in node.getchildren():\n",
    "        child_tag = child.tag\n",
    "        if child.getchildren():\n",
    "            if child_tag == 'eta':\n",
    "                child_tag += f'_{eta_num}'\n",
    "                eta_num += 1\n",
    "            curr[child_tag] = xml_to_tree(child)\n",
    "        else:\n",
    "            curr[child_tag] = child.text\n",
    "    \n",
    "    return curr"
   ]
  },
  {
   "cell_type": "code",
   "execution_count": null,
   "id": "7a2b3942",
   "metadata": {},
   "outputs": [],
   "source": [
    "response.text"
   ]
  },
  {
   "cell_type": "code",
   "execution_count": null,
   "id": "9790a471",
   "metadata": {
    "scrolled": false
   },
   "outputs": [],
   "source": [
    "print(xml_to_tree(root))"
   ]
  },
  {
   "cell_type": "code",
   "execution_count": null,
   "id": "2cf11231",
   "metadata": {},
   "outputs": [],
   "source": [
    "data_dict = xmltodict.parse(response.content)"
   ]
  },
  {
   "cell_type": "markdown",
   "id": "94d69137",
   "metadata": {},
   "source": [
    "## Follow this train API"
   ]
  },
  {
   "cell_type": "code",
   "execution_count": null,
   "id": "7073cd59",
   "metadata": {},
   "outputs": [],
   "source": [
    "params = {'runnumber':831,\n",
    "         'key': CTA_API_KEY,\n",
    "         'outputType':'JSON'}"
   ]
  },
  {
   "cell_type": "code",
   "execution_count": null,
   "id": "105f34cb",
   "metadata": {},
   "outputs": [],
   "source": [
    "response = requests.get(\"https://lapi.transitchicago.com/api/1.0/ttfollow.aspx\", params=params)"
   ]
  },
  {
   "cell_type": "code",
   "execution_count": null,
   "id": "c9c82c66",
   "metadata": {},
   "outputs": [],
   "source": [
    "response.json()"
   ]
  },
  {
   "cell_type": "markdown",
   "id": "bddfdb1a",
   "metadata": {},
   "source": [
    "## Locations API"
   ]
  },
  {
   "cell_type": "code",
   "execution_count": null,
   "id": "1e61d647",
   "metadata": {},
   "outputs": [],
   "source": [
    "params = {'rt':'red',\n",
    "         'key': CTA_API_KEY,\n",
    "         'outputType':'JSON'}"
   ]
  },
  {
   "cell_type": "code",
   "execution_count": null,
   "id": "2818551f",
   "metadata": {},
   "outputs": [],
   "source": [
    "response = requests.get(\"https://lapi.transitchicago.com/api/1.0/ttpositions.aspx\", params=params)"
   ]
  },
  {
   "cell_type": "code",
   "execution_count": null,
   "id": "a30f2357",
   "metadata": {},
   "outputs": [],
   "source": [
    "response.json()"
   ]
  },
  {
   "cell_type": "markdown",
   "id": "7ad3fe28",
   "metadata": {},
   "source": [
    "## Database for storing train run delays per stop"
   ]
  },
  {
   "cell_type": "code",
   "execution_count": null,
   "id": "f2cc64e6",
   "metadata": {},
   "outputs": [],
   "source": [
    "conn = sqlite3.connect(\"cta_trains.db\")\n",
    "cur = conn.cursor()"
   ]
  },
  {
   "cell_type": "code",
   "execution_count": null,
   "id": "82a303ae",
   "metadata": {},
   "outputs": [],
   "source": [
    "# Create train_delays table\n",
    "cur.execute(\"\"\"\n",
    "create table train_delays\n",
    "(train_line string, run_number int, day date,\n",
    "previous_station string, next_station string, \n",
    "delay_in_minutes float)\n",
    "\"\"\")"
   ]
  },
  {
   "cell_type": "markdown",
   "id": "bbe67d2b",
   "metadata": {},
   "source": [
    "## Fetch latest train data"
   ]
  },
  {
   "cell_type": "code",
   "execution_count": null,
   "id": "912af9c5",
   "metadata": {},
   "outputs": [],
   "source": [
    "def fetch_latest_etas(train_line: str):\n",
    "    params = {'rt':train_line,\n",
    "         'key': CTA_API_KEY,\n",
    "         'outputType':'JSON'}\n",
    "    \n",
    "    response = requests.get(\"https://lapi.transitchicago.com/api/1.0/ttpositions.aspx\", params=params)\n",
    "    \n",
    "    return response.json()"
   ]
  },
  {
   "cell_type": "code",
   "execution_count": null,
   "id": "bbd5595b",
   "metadata": {},
   "outputs": [],
   "source": [
    "fetch_latest_etas('red')"
   ]
  },
  {
   "cell_type": "markdown",
   "id": "1ed3dc07",
   "metadata": {},
   "source": [
    "## Create Kafka topic"
   ]
  },
  {
   "cell_type": "code",
   "execution_count": null,
   "id": "d1743947",
   "metadata": {},
   "outputs": [],
   "source": [
    "admin_client = KafkaAdminClient(\n",
    "    bootstrap_servers=\"kafka:29092\",  # Replace with your Kafka broker address\n",
    "#     client_id=\"my-admin-client\"\n",
    ")\n",
    "\n",
    "topic_name = \"train-etas\"\n",
    "num_partitions = 1\n",
    "replication_factor = 1\n",
    "\n",
    "new_topic = NewTopic(name=topic_name, num_partitions=num_partitions, replication_factor=replication_factor)\n",
    "\n",
    "admin_client.create_topics([new_topic])"
   ]
  },
  {
   "cell_type": "markdown",
   "id": "e34b0bdf",
   "metadata": {},
   "source": [
    "## Set up Kafka producer"
   ]
  },
  {
   "cell_type": "code",
   "execution_count": null,
   "id": "f1b5b825",
   "metadata": {},
   "outputs": [],
   "source": [
    "producer = KafkaProducer(bootstrap_servers='localhost:9092',\n",
    "                        value_serializer=lambda v: json.dumps(v).encode('utf-8'))"
   ]
  },
  {
   "cell_type": "markdown",
   "id": "f18a49b8",
   "metadata": {},
   "source": [
    "## Set up Kafka consumer to print messages in topic"
   ]
  },
  {
   "cell_type": "code",
   "execution_count": null,
   "id": "03311fc6",
   "metadata": {},
   "outputs": [],
   "source": [
    "from kafka import KafkaConsumer\n",
    "\n",
    "# To consume latest messages and auto-commit offsets\n",
    "consumer = KafkaConsumer('train-etas',\n",
    "                         bootstrap_servers=['localhost:9092'])\n",
    "\n",
    "for message in consumer:\n",
    "    print(message.value.decode('utf-8'))"
   ]
  },
  {
   "cell_type": "markdown",
   "id": "6b1f1dcd",
   "metadata": {},
   "source": [
    "## PyFlink "
   ]
  },
  {
   "cell_type": "code",
   "execution_count": null,
   "id": "311b902d",
   "metadata": {},
   "outputs": [],
   "source": [
    "from pyflink.datastream import StreamExecutionEnvironment\n",
    "from pyflink.datastream.connectors import FlinkKafkaConsumer\n",
    "from pyflink.common.serialization import SimpleStringSchema\n",
    "from pyflink.common.typeinfo import Types\n",
    "import json\n",
    "\n",
    "env = StreamExecutionEnvironment.get_execution_environment()\n",
    "\n",
    "kafka_consumer = FlinkKafkaConsumer(\n",
    "    topics=['train-etas'],\n",
    "    deserialization_schema=SimpleStringSchema(),\n",
    "    properties={'bootstrap.servers': 'localhost:9092'}\n",
    ")\n",
    "\n",
    "data_stream = env.add_source(kafka_consumer)\n",
    "\n",
    "data_stream.print()"
   ]
  },
  {
   "cell_type": "code",
   "execution_count": null,
   "id": "06f43cd8",
   "metadata": {},
   "outputs": [],
   "source": []
  },
  {
   "cell_type": "markdown",
   "id": "011d7bba",
   "metadata": {},
   "source": [
    "## Poll api and send"
   ]
  },
  {
   "cell_type": "code",
   "execution_count": null,
   "id": "d159bd4b",
   "metadata": {},
   "outputs": [],
   "source": [
    "def poll_api_and_send(train_line):\n",
    "    while True:\n",
    "        latest_data = fetch_latest_etas(train_line)\n",
    "        producer.send('input-topic', latest_data)\n",
    "        print('sent latest train eta data')\n",
    "        \n",
    "        time.sleep(30)"
   ]
  },
  {
   "cell_type": "code",
   "execution_count": null,
   "id": "4e196052",
   "metadata": {},
   "outputs": [],
   "source": [
    "poll_api_and_send('red')"
   ]
  },
  {
   "cell_type": "code",
   "execution_count": null,
   "id": "0a58ec8e",
   "metadata": {},
   "outputs": [],
   "source": []
  }
 ],
 "metadata": {
  "kernelspec": {
   "display_name": "Python 3",
   "language": "python",
   "name": "python3"
  },
  "language_info": {
   "codemirror_mode": {
    "name": "ipython",
    "version": 3
   },
   "file_extension": ".py",
   "mimetype": "text/x-python",
   "name": "python",
   "nbconvert_exporter": "python",
   "pygments_lexer": "ipython3",
   "version": "3.8.8"
  }
 },
 "nbformat": 4,
 "nbformat_minor": 5
}
